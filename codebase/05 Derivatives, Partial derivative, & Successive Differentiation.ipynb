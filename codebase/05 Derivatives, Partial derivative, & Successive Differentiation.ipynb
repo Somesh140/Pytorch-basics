{
 "cells": [
  {
   "cell_type": "code",
   "execution_count": 2,
   "id": "8a5eee4d",
   "metadata": {},
   "outputs": [],
   "source": [
    "import torch\n",
    "import numpy as np"
   ]
  },
  {
   "cell_type": "markdown",
   "id": "4449c70a",
   "metadata": {},
   "source": [
    "## Derivatives"
   ]
  },
  {
   "cell_type": "code",
   "execution_count": 9,
   "id": "ccc681d8",
   "metadata": {},
   "outputs": [
    {
     "data": {
      "text/plain": [
       "tensor(5., requires_grad=True)"
      ]
     },
     "execution_count": 9,
     "metadata": {},
     "output_type": "execute_result"
    }
   ],
   "source": [
    "x = torch.tensor(5.0, requires_grad=True)\n",
    "x"
   ]
  },
  {
   "cell_type": "markdown",
   "id": "a624cc52",
   "metadata": {},
   "source": [
    "$x = 5.0$\n",
    "\n",
    "$y = x^2 => f(x) = x^2$\n",
    "\n"
   ]
  },
  {
   "cell_type": "code",
   "execution_count": 10,
   "id": "abb01b4d",
   "metadata": {},
   "outputs": [
    {
     "data": {
      "text/plain": [
       "tensor(25., grad_fn=<PowBackward0>)"
      ]
     },
     "execution_count": 10,
     "metadata": {},
     "output_type": "execute_result"
    }
   ],
   "source": [
    "y = x ** 2\n",
    "y"
   ]
  },
  {
   "cell_type": "markdown",
   "id": "59db3320",
   "metadata": {},
   "source": [
    "$\\frac{dy}{dx} = 2x$\n",
    "\n",
    "$f'(x=5.0) = 2 * 5.0 = 10$"
   ]
  },
  {
   "cell_type": "code",
   "execution_count": 11,
   "id": "9a3365ac",
   "metadata": {},
   "outputs": [
    {
     "data": {
      "text/plain": [
       "tensor(10.)"
      ]
     },
     "execution_count": 11,
     "metadata": {},
     "output_type": "execute_result"
    }
   ],
   "source": [
    "y.backward()\n",
    "\n",
    "x.grad"
   ]
  },
  {
   "cell_type": "markdown",
   "id": "95b4594b",
   "metadata": {},
   "source": [
    "## Partial derivative"
   ]
  },
  {
   "cell_type": "code",
   "execution_count": 12,
   "id": "05793cd6",
   "metadata": {},
   "outputs": [],
   "source": [
    "x = torch.tensor(5.0, requires_grad=True)\n",
    "y = torch.tensor(5.0, requires_grad=True)\n"
   ]
  },
  {
   "cell_type": "code",
   "execution_count": 13,
   "id": "f66ee782",
   "metadata": {},
   "outputs": [],
   "source": [
    "f = x**2 + y**2"
   ]
  },
  {
   "cell_type": "code",
   "execution_count": 14,
   "id": "ada26271",
   "metadata": {},
   "outputs": [],
   "source": [
    "f.backward()"
   ]
  },
  {
   "cell_type": "code",
   "execution_count": 15,
   "id": "bd06c601",
   "metadata": {},
   "outputs": [
    {
     "data": {
      "text/plain": [
       "<AddBackward0 at 0x1aefc26ad48>"
      ]
     },
     "execution_count": 15,
     "metadata": {},
     "output_type": "execute_result"
    }
   ],
   "source": [
    "f.grad_fn"
   ]
  },
  {
   "cell_type": "code",
   "execution_count": 16,
   "id": "35b8c594",
   "metadata": {},
   "outputs": [
    {
     "data": {
      "text/plain": [
       "tensor(10.)"
      ]
     },
     "execution_count": 16,
     "metadata": {},
     "output_type": "execute_result"
    }
   ],
   "source": [
    "x.grad # partial derivative wrt x at x = 5 and y =5"
   ]
  },
  {
   "cell_type": "code",
   "execution_count": 17,
   "id": "5407338a",
   "metadata": {},
   "outputs": [
    {
     "data": {
      "text/plain": [
       "tensor(10.)"
      ]
     },
     "execution_count": 17,
     "metadata": {},
     "output_type": "execute_result"
    }
   ],
   "source": [
    "y.grad # partial derivative wrt y at x = 5 and y =5"
   ]
  },
  {
   "cell_type": "code",
   "execution_count": 22,
   "id": "40ca07f2",
   "metadata": {},
   "outputs": [],
   "source": [
    "x = torch.tensor(5.0, requires_grad=True)\n",
    "y = torch.tensor(5.0, requires_grad=True)\n"
   ]
  },
  {
   "cell_type": "code",
   "execution_count": 23,
   "id": "0e1e4416",
   "metadata": {},
   "outputs": [],
   "source": [
    "f2 = x**2 * y**2"
   ]
  },
  {
   "cell_type": "markdown",
   "id": "5ede555d",
   "metadata": {},
   "source": [
    "$f2(x, y) = x^2 . y^2$\n",
    "\n",
    "$\\frac{\\partial f2}{\\partial x} = 2x.y^2$\n",
    "\n",
    "$\\frac{\\partial f2}{\\partial y} = x^2.2y$"
   ]
  },
  {
   "cell_type": "code",
   "execution_count": 24,
   "id": "c8bd773f",
   "metadata": {},
   "outputs": [],
   "source": [
    "f2.backward()"
   ]
  },
  {
   "cell_type": "code",
   "execution_count": 25,
   "id": "6eac5aae",
   "metadata": {},
   "outputs": [
    {
     "data": {
      "text/plain": [
       "<MulBackward0 at 0x1aefc470a48>"
      ]
     },
     "execution_count": 25,
     "metadata": {},
     "output_type": "execute_result"
    }
   ],
   "source": [
    "f2.grad_fn"
   ]
  },
  {
   "cell_type": "code",
   "execution_count": 26,
   "id": "b048acad",
   "metadata": {},
   "outputs": [
    {
     "data": {
      "text/plain": [
       "tensor(250.)"
      ]
     },
     "execution_count": 26,
     "metadata": {},
     "output_type": "execute_result"
    }
   ],
   "source": [
    "x.grad"
   ]
  },
  {
   "cell_type": "markdown",
   "id": "c233fd4c",
   "metadata": {},
   "source": [
    "## Successive Differentiation"
   ]
  },
  {
   "cell_type": "code",
   "execution_count": 27,
   "id": "ff0bc14a",
   "metadata": {},
   "outputs": [],
   "source": [
    "from torch.autograd import grad\n",
    "\n",
    "def nth_derivative(f, wrt, n=2):\n",
    "    \n",
    "    for i in range(n):\n",
    "        grads = grad(f, wrt, create_graph=True)[0]\n",
    "        f = grads.sum()\n",
    "        \n",
    "    return grads"
   ]
  },
  {
   "cell_type": "code",
   "execution_count": 28,
   "id": "5f9b470c",
   "metadata": {},
   "outputs": [],
   "source": [
    "x = torch.tensor(5.0, requires_grad=True)"
   ]
  },
  {
   "cell_type": "markdown",
   "id": "e82b5947",
   "metadata": {},
   "source": [
    "$f(x) = X^2 + x^3$\n",
    "\n",
    "$f'(x) = 2x + 3x^2$\n",
    "\n",
    "$f''(x) = 2 + 6x$\n",
    "\n",
    "$f''(x=5) = 2 + 6*5 = 32$"
   ]
  },
  {
   "cell_type": "code",
   "execution_count": 29,
   "id": "a2536df2",
   "metadata": {},
   "outputs": [
    {
     "data": {
      "text/plain": [
       "tensor(32., grad_fn=<AddBackward0>)"
      ]
     },
     "execution_count": 29,
     "metadata": {},
     "output_type": "execute_result"
    }
   ],
   "source": [
    "f = x**2 + x**3\n",
    "\n",
    "# double derivative\n",
    "nth_derivative(f, x)"
   ]
  },
  {
   "cell_type": "code",
   "execution_count": null,
   "id": "5de4a500",
   "metadata": {},
   "outputs": [],
   "source": []
  }
 ],
 "metadata": {
  "kernelspec": {
   "display_name": "Python 3 (ipykernel)",
   "language": "python",
   "name": "python3"
  },
  "language_info": {
   "codemirror_mode": {
    "name": "ipython",
    "version": 3
   },
   "file_extension": ".py",
   "mimetype": "text/x-python",
   "name": "python",
   "nbconvert_exporter": "python",
   "pygments_lexer": "ipython3",
   "version": "3.7.11"
  }
 },
 "nbformat": 4,
 "nbformat_minor": 5
}
